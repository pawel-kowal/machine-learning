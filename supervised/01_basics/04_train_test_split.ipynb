{
  "nbformat": 4,
  "nbformat_minor": 0,
  "metadata": {
    "colab": {
      "provenance": [],
      "authorship_tag": "ABX9TyOfpk9ZUixolV0lD5OiTcgr",
      "include_colab_link": true
    },
    "kernelspec": {
      "name": "python3",
      "display_name": "Python 3"
    },
    "language_info": {
      "name": "python"
    }
  },
  "cells": [
    {
      "cell_type": "markdown",
      "metadata": {
        "id": "view-in-github",
        "colab_type": "text"
      },
      "source": [
        "<a href=\"https://colab.research.google.com/github/pawel-kowal/machine-learning/blob/main/supervised/01_basics/04_train_test_split.ipynb\" target=\"_parent\"><img src=\"https://colab.research.google.com/assets/colab-badge.svg\" alt=\"Open In Colab\"/></a>"
      ]
    },
    {
      "cell_type": "markdown",
      "source": [
        "###Import bibliotek"
      ],
      "metadata": {
        "id": "_2inw6maqN27"
      }
    },
    {
      "cell_type": "code",
      "execution_count": 2,
      "metadata": {
        "colab": {
          "base_uri": "https://localhost:8080/",
          "height": 35
        },
        "id": "rbJ1fICuqJDn",
        "outputId": "43496614-f7d3-4730-f049-10306d2278ef"
      },
      "outputs": [
        {
          "output_type": "execute_result",
          "data": {
            "text/plain": [
              "'1.2.2'"
            ],
            "application/vnd.google.colaboratory.intrinsic+json": {
              "type": "string"
            }
          },
          "metadata": {},
          "execution_count": 2
        }
      ],
      "source": [
        "import numpy as np\n",
        "import pandas as pd\n",
        "import sklearn\n",
        "import seaborn as sns\n",
        "\n",
        "np.random.seed(42)\n",
        "np.set_printoptions(edgeitems=30, linewidth=10000,\n",
        "                   formatter=dict(float=lambda x: f'{x:.2f}'))\n",
        "sns.set()\n",
        "sklearn.__version__"
      ]
    },
    {
      "cell_type": "markdown",
      "source": [
        "###Załadowanie danych"
      ],
      "metadata": {
        "id": "QLA0QFUtqwET"
      }
    }
  ]
}